{
 "cells": [
  {
   "cell_type": "code",
   "id": "initial_id",
   "metadata": {
    "collapsed": true,
    "jupyter": {
     "is_executing": true
    }
   },
   "source": [
    "import torch\n",
    "import numpy as np\n",
    "import matplotlib.pyplot as plt\n",
    "\n",
    "from utils import viz_samples, Config\n",
    "from noise_scheduler import NoiseScheduler"
   ],
   "outputs": [],
   "execution_count": null
  },
  {
   "metadata": {
    "jupyter": {
     "is_executing": true
    }
   },
   "cell_type": "code",
   "source": [
    "cfg = {\n",
    "    \"seed\": 0,\n",
    "\n",
    "    # data\n",
    "    \"csv_file\": \"assets/simple/cat.csv\",\n",
    "\n",
    "    # opt_params\n",
    "    \"epochs\": 5,\n",
    "    \"batch_size\": 32,\n",
    "    \"lr\": 1e-3,\n",
    "\n",
    "    # model_params\n",
    "    \"model\": \"MLP\", # denoiser\n",
    "    \"input_dim\": 3,\n",
    "    \"hidden_dim\": 64,\n",
    "    \"output_dim\": 2,\n",
    "    \"hidden_layers\": 3,\n",
    "\n",
    "    # output_params\n",
    "    \"log_dir\": \"./logs/\",\n",
    "\n",
    "    # noise_scheduler\n",
    "    \"beta_start\": 1e-5,\n",
    "    \"beta_end\": 1e-2,\n",
    "    \"timesteps\": 50,\n",
    "}"
   ],
   "id": "4b2c4d7b50dea3a",
   "outputs": [],
   "execution_count": null
  },
  {
   "metadata": {
    "jupyter": {
     "is_executing": true
    }
   },
   "cell_type": "code",
   "source": [
    "cfg = Config(cfg)\n",
    "log_dir = cfg.log_dir\n",
    "ns = NoiseScheduler(cfg)\n",
    "model = torch.load(cfg.log_dir + \"params.pt\")\n",
    "model.eval()"
   ],
   "id": "51c27326931a31ab",
   "outputs": [],
   "execution_count": null
  },
  {
   "metadata": {
    "jupyter": {
     "is_executing": true
    }
   },
   "cell_type": "code",
   "source": [
    "'''\n",
    "Run inference\n",
    "'''\n",
    "x_last = torch.randn(1, 2)\n",
    "samples = [x_last]\n",
    "\n",
    "for t in reversed(range(ns.num_timesteps)):\n",
    "    with torch.no_grad():\n",
    "        eps_pred = model(samples[-1], t)\n",
    "        # reconstruct image here\n",
    "        \n",
    "    # add to samples\n",
    "    samples.append()"
   ],
   "id": "202826707972e1c8",
   "outputs": [],
   "execution_count": null
  }
 ],
 "metadata": {
  "kernelspec": {
   "display_name": "Python 3",
   "language": "python",
   "name": "python3"
  },
  "language_info": {
   "codemirror_mode": {
    "name": "ipython",
    "version": 2
   },
   "file_extension": ".py",
   "mimetype": "text/x-python",
   "name": "python",
   "nbconvert_exporter": "python",
   "pygments_lexer": "ipython2",
   "version": "2.7.6"
  }
 },
 "nbformat": 4,
 "nbformat_minor": 5
}
